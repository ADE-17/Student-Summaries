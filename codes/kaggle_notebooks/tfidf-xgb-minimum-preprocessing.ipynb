{
 "cells": [
  {
   "cell_type": "code",
   "execution_count": 1,
   "id": "76eda0d0",
   "metadata": {
    "_cell_guid": "b1076dfc-b9ad-4769-8c92-a6c4dae69d19",
    "_uuid": "8f2839f25d086af736a60e9eeb907d3b93b6e0e5",
    "execution": {
     "iopub.execute_input": "2023-08-17T08:31:39.588214Z",
     "iopub.status.busy": "2023-08-17T08:31:39.587497Z",
     "iopub.status.idle": "2023-08-17T08:31:39.600014Z",
     "shell.execute_reply": "2023-08-17T08:31:39.599162Z"
    },
    "papermill": {
     "duration": 0.022111,
     "end_time": "2023-08-17T08:31:39.602426",
     "exception": false,
     "start_time": "2023-08-17T08:31:39.580315",
     "status": "completed"
    },
    "tags": []
   },
   "outputs": [
    {
     "name": "stdout",
     "output_type": "stream",
     "text": [
      "/kaggle/input/commonlit-evaluate-student-summaries/sample_submission.csv\n",
      "/kaggle/input/commonlit-evaluate-student-summaries/prompts_train.csv\n",
      "/kaggle/input/commonlit-evaluate-student-summaries/summaries_test.csv\n",
      "/kaggle/input/commonlit-evaluate-student-summaries/summaries_train.csv\n",
      "/kaggle/input/commonlit-evaluate-student-summaries/prompts_test.csv\n"
     ]
    }
   ],
   "source": [
    "# This Python 3 environment comes with many helpful analytics libraries installed\n",
    "# It is defined by the kaggle/python Docker image: https://github.com/kaggle/docker-python\n",
    "# For example, here's several helpful packages to load\n",
    "\n",
    "import numpy as np # linear algebra\n",
    "import pandas as pd # data processing, CSV file I/O (e.g. pd.read_csv)\n",
    "\n",
    "# Input data files are available in the read-only \"../input/\" directory\n",
    "# For example, running this (by clicking run or pressing Shift+Enter) will list all files under the input directory\n",
    "\n",
    "import os\n",
    "for dirname, _, filenames in os.walk('/kaggle/input'):\n",
    "    for filename in filenames:\n",
    "        print(os.path.join(dirname, filename))\n",
    "\n",
    "# You can write up to 20GB to the current directory (/kaggle/working/) that gets preserved as output when you create a version using \"Save & Run All\" \n",
    "# You can also write temporary files to /kaggle/temp/, but they won't be saved outside of the current session"
   ]
  },
  {
   "cell_type": "code",
   "execution_count": 2,
   "id": "4ee568ef",
   "metadata": {
    "execution": {
     "iopub.execute_input": "2023-08-17T08:31:39.613294Z",
     "iopub.status.busy": "2023-08-17T08:31:39.612874Z",
     "iopub.status.idle": "2023-08-17T08:31:41.860437Z",
     "shell.execute_reply": "2023-08-17T08:31:41.859468Z"
    },
    "papermill": {
     "duration": 2.255782,
     "end_time": "2023-08-17T08:31:41.862960",
     "exception": false,
     "start_time": "2023-08-17T08:31:39.607178",
     "status": "completed"
    },
    "tags": []
   },
   "outputs": [
    {
     "name": "stderr",
     "output_type": "stream",
     "text": [
      "/opt/conda/lib/python3.10/site-packages/scipy/__init__.py:146: UserWarning: A NumPy version >=1.16.5 and <1.23.0 is required for this version of SciPy (detected version 1.23.5\n",
      "  warnings.warn(f\"A NumPy version >={np_minversion} and <{np_maxversion}\"\n"
     ]
    },
    {
     "name": "stdout",
     "output_type": "stream",
     "text": [
      "[nltk_data] Downloading package punkt to /usr/share/nltk_data...\n",
      "[nltk_data]   Package punkt is already up-to-date!\n",
      "[nltk_data] Downloading package stopwords to /usr/share/nltk_data...\n",
      "[nltk_data]   Package stopwords is already up-to-date!\n"
     ]
    }
   ],
   "source": [
    "import pandas as pd\n",
    "import nltk\n",
    "from nltk.corpus import stopwords\n",
    "from sklearn.feature_extraction.text import TfidfVectorizer\n",
    "\n",
    "nltk.download('punkt')\n",
    "nltk.download('stopwords')\n",
    "\n",
    "from sklearn.multioutput import MultiOutputRegressor\n",
    "from sklearn.linear_model import LinearRegression\n",
    "from sklearn.model_selection import train_test_split\n",
    "from sklearn.metrics import mean_squared_error\n",
    "\n",
    "from xgboost import XGBRegressor"
   ]
  },
  {
   "cell_type": "code",
   "execution_count": 3,
   "id": "29a96b9e",
   "metadata": {
    "execution": {
     "iopub.execute_input": "2023-08-17T08:31:41.874718Z",
     "iopub.status.busy": "2023-08-17T08:31:41.873968Z",
     "iopub.status.idle": "2023-08-17T08:31:42.036244Z",
     "shell.execute_reply": "2023-08-17T08:31:42.035090Z"
    },
    "papermill": {
     "duration": 0.171114,
     "end_time": "2023-08-17T08:31:42.039007",
     "exception": false,
     "start_time": "2023-08-17T08:31:41.867893",
     "status": "completed"
    },
    "tags": []
   },
   "outputs": [],
   "source": [
    "train_data = pd.read_csv(\"/kaggle/input/commonlit-evaluate-student-summaries/summaries_train.csv\")\n",
    "test_data = pd.read_csv(\"/kaggle/input/commonlit-evaluate-student-summaries/summaries_test.csv\")"
   ]
  },
  {
   "cell_type": "code",
   "execution_count": 4,
   "id": "074fa738",
   "metadata": {
    "execution": {
     "iopub.execute_input": "2023-08-17T08:31:42.050511Z",
     "iopub.status.busy": "2023-08-17T08:31:42.050093Z",
     "iopub.status.idle": "2023-08-17T08:31:42.056749Z",
     "shell.execute_reply": "2023-08-17T08:31:42.055595Z"
    },
    "papermill": {
     "duration": 0.014983,
     "end_time": "2023-08-17T08:31:42.058896",
     "exception": false,
     "start_time": "2023-08-17T08:31:42.043913",
     "status": "completed"
    },
    "tags": []
   },
   "outputs": [],
   "source": [
    "def preprocess_text(text):\n",
    "    tokens = nltk.word_tokenize(text)\n",
    "    \n",
    "    tokens = [token.lower() for token in tokens]\n",
    "    \n",
    "    tokens = [token for token in tokens if token.isalnum()]\n",
    "    \n",
    "    stop_words = set(stopwords.words('english'))\n",
    "    tokens = [token for token in tokens if token not in stop_words]\n",
    "    \n",
    "    preprocessed_text = ' '.join(tokens)\n",
    "    \n",
    "    return preprocessed_text\n",
    "\n",
    "def extract_features(texts):\n",
    "    tfidf_vectorizer = TfidfVectorizer()\n",
    "    \n",
    "    features = tfidf_vectorizer.fit_transform(texts)\n",
    "    \n",
    "    return features"
   ]
  },
  {
   "cell_type": "code",
   "execution_count": 5,
   "id": "df80dc29",
   "metadata": {
    "execution": {
     "iopub.execute_input": "2023-08-17T08:31:42.071145Z",
     "iopub.status.busy": "2023-08-17T08:31:42.070009Z",
     "iopub.status.idle": "2023-08-17T08:31:42.080266Z",
     "shell.execute_reply": "2023-08-17T08:31:42.079306Z"
    },
    "papermill": {
     "duration": 0.019058,
     "end_time": "2023-08-17T08:31:42.083191",
     "exception": false,
     "start_time": "2023-08-17T08:31:42.064133",
     "status": "completed"
    },
    "tags": []
   },
   "outputs": [],
   "source": [
    "train_text_summaries = train_data.text\n",
    "test_text_summaries = test_data.text"
   ]
  },
  {
   "cell_type": "code",
   "execution_count": 6,
   "id": "4a795107",
   "metadata": {
    "execution": {
     "iopub.execute_input": "2023-08-17T08:31:42.095220Z",
     "iopub.status.busy": "2023-08-17T08:31:42.094730Z",
     "iopub.status.idle": "2023-08-17T08:31:48.536394Z",
     "shell.execute_reply": "2023-08-17T08:31:48.535140Z"
    },
    "papermill": {
     "duration": 6.451188,
     "end_time": "2023-08-17T08:31:48.539139",
     "exception": false,
     "start_time": "2023-08-17T08:31:42.087951",
     "status": "completed"
    },
    "tags": []
   },
   "outputs": [],
   "source": [
    "preprocessed_summaries_train = [preprocess_text(summary) for summary in train_text_summaries]\n",
    "preprocessed_summaries_test = [preprocess_text(summary) for summary in test_text_summaries]\n",
    "\n",
    "train_tfidf_features = extract_features(preprocessed_summaries_train)\n",
    "test_tfidf_features = extract_features(preprocessed_summaries_test)"
   ]
  },
  {
   "cell_type": "code",
   "execution_count": 7,
   "id": "73cd31b3",
   "metadata": {
    "execution": {
     "iopub.execute_input": "2023-08-17T08:31:48.552576Z",
     "iopub.status.busy": "2023-08-17T08:31:48.552172Z",
     "iopub.status.idle": "2023-08-17T08:31:48.559803Z",
     "shell.execute_reply": "2023-08-17T08:31:48.558519Z"
    },
    "papermill": {
     "duration": 0.01596,
     "end_time": "2023-08-17T08:31:48.562143",
     "exception": false,
     "start_time": "2023-08-17T08:31:48.546183",
     "status": "completed"
    },
    "tags": []
   },
   "outputs": [
    {
     "data": {
      "text/plain": [
       "(7165, 11986)"
      ]
     },
     "execution_count": 7,
     "metadata": {},
     "output_type": "execute_result"
    }
   ],
   "source": [
    "train_tfidf_features.shape"
   ]
  },
  {
   "cell_type": "code",
   "execution_count": 8,
   "id": "c861dcf0",
   "metadata": {
    "execution": {
     "iopub.execute_input": "2023-08-17T08:31:48.573488Z",
     "iopub.status.busy": "2023-08-17T08:31:48.573061Z",
     "iopub.status.idle": "2023-08-17T08:31:48.582336Z",
     "shell.execute_reply": "2023-08-17T08:31:48.581154Z"
    },
    "papermill": {
     "duration": 0.018137,
     "end_time": "2023-08-17T08:31:48.585150",
     "exception": false,
     "start_time": "2023-08-17T08:31:48.567013",
     "status": "completed"
    },
    "tags": []
   },
   "outputs": [
    {
     "data": {
      "text/plain": [
       "(4, 2)"
      ]
     },
     "execution_count": 8,
     "metadata": {},
     "output_type": "execute_result"
    }
   ],
   "source": [
    "test_tfidf_features.shape"
   ]
  },
  {
   "cell_type": "code",
   "execution_count": 9,
   "id": "42d076c9",
   "metadata": {
    "execution": {
     "iopub.execute_input": "2023-08-17T08:31:48.597611Z",
     "iopub.status.busy": "2023-08-17T08:31:48.597213Z",
     "iopub.status.idle": "2023-08-17T08:31:48.606174Z",
     "shell.execute_reply": "2023-08-17T08:31:48.605162Z"
    },
    "papermill": {
     "duration": 0.017907,
     "end_time": "2023-08-17T08:31:48.608615",
     "exception": false,
     "start_time": "2023-08-17T08:31:48.590708",
     "status": "completed"
    },
    "tags": []
   },
   "outputs": [],
   "source": [
    "target_labels = train_data[['content', 'wording']]"
   ]
  },
  {
   "cell_type": "code",
   "execution_count": 10,
   "id": "54b9c144",
   "metadata": {
    "execution": {
     "iopub.execute_input": "2023-08-17T08:31:48.621122Z",
     "iopub.status.busy": "2023-08-17T08:31:48.620261Z",
     "iopub.status.idle": "2023-08-17T08:31:48.624664Z",
     "shell.execute_reply": "2023-08-17T08:31:48.623810Z"
    },
    "papermill": {
     "duration": 0.012802,
     "end_time": "2023-08-17T08:31:48.626741",
     "exception": false,
     "start_time": "2023-08-17T08:31:48.613939",
     "status": "completed"
    },
    "tags": []
   },
   "outputs": [],
   "source": [
    "regressor = XGBRegressor()"
   ]
  },
  {
   "cell_type": "code",
   "execution_count": 11,
   "id": "a951ca12",
   "metadata": {
    "execution": {
     "iopub.execute_input": "2023-08-17T08:31:48.639173Z",
     "iopub.status.busy": "2023-08-17T08:31:48.638767Z",
     "iopub.status.idle": "2023-08-17T08:31:48.647894Z",
     "shell.execute_reply": "2023-08-17T08:31:48.647123Z"
    },
    "papermill": {
     "duration": 0.018,
     "end_time": "2023-08-17T08:31:48.650043",
     "exception": false,
     "start_time": "2023-08-17T08:31:48.632043",
     "status": "completed"
    },
    "tags": []
   },
   "outputs": [],
   "source": [
    "X_train, X_test, y_train, y_test = train_test_split(train_tfidf_features, target_labels, test_size=0.2, random_state=42)"
   ]
  },
  {
   "cell_type": "code",
   "execution_count": 12,
   "id": "af8ced31",
   "metadata": {
    "execution": {
     "iopub.execute_input": "2023-08-17T08:31:48.661782Z",
     "iopub.status.busy": "2023-08-17T08:31:48.661376Z",
     "iopub.status.idle": "2023-08-17T08:31:48.666348Z",
     "shell.execute_reply": "2023-08-17T08:31:48.665232Z"
    },
    "papermill": {
     "duration": 0.013392,
     "end_time": "2023-08-17T08:31:48.668401",
     "exception": false,
     "start_time": "2023-08-17T08:31:48.655009",
     "status": "completed"
    },
    "tags": []
   },
   "outputs": [],
   "source": [
    "multi_output_regressor = MultiOutputRegressor(regressor)"
   ]
  },
  {
   "cell_type": "code",
   "execution_count": 13,
   "id": "5ba43ffa",
   "metadata": {
    "execution": {
     "iopub.execute_input": "2023-08-17T08:31:48.680841Z",
     "iopub.status.busy": "2023-08-17T08:31:48.680424Z",
     "iopub.status.idle": "2023-08-17T08:31:57.145547Z",
     "shell.execute_reply": "2023-08-17T08:31:57.144183Z"
    },
    "papermill": {
     "duration": 8.474219,
     "end_time": "2023-08-17T08:31:57.148018",
     "exception": false,
     "start_time": "2023-08-17T08:31:48.673799",
     "status": "completed"
    },
    "tags": []
   },
   "outputs": [
    {
     "data": {
      "text/html": [
       "<style>#sk-container-id-1 {color: black;background-color: white;}#sk-container-id-1 pre{padding: 0;}#sk-container-id-1 div.sk-toggleable {background-color: white;}#sk-container-id-1 label.sk-toggleable__label {cursor: pointer;display: block;width: 100%;margin-bottom: 0;padding: 0.3em;box-sizing: border-box;text-align: center;}#sk-container-id-1 label.sk-toggleable__label-arrow:before {content: \"▸\";float: left;margin-right: 0.25em;color: #696969;}#sk-container-id-1 label.sk-toggleable__label-arrow:hover:before {color: black;}#sk-container-id-1 div.sk-estimator:hover label.sk-toggleable__label-arrow:before {color: black;}#sk-container-id-1 div.sk-toggleable__content {max-height: 0;max-width: 0;overflow: hidden;text-align: left;background-color: #f0f8ff;}#sk-container-id-1 div.sk-toggleable__content pre {margin: 0.2em;color: black;border-radius: 0.25em;background-color: #f0f8ff;}#sk-container-id-1 input.sk-toggleable__control:checked~div.sk-toggleable__content {max-height: 200px;max-width: 100%;overflow: auto;}#sk-container-id-1 input.sk-toggleable__control:checked~label.sk-toggleable__label-arrow:before {content: \"▾\";}#sk-container-id-1 div.sk-estimator input.sk-toggleable__control:checked~label.sk-toggleable__label {background-color: #d4ebff;}#sk-container-id-1 div.sk-label input.sk-toggleable__control:checked~label.sk-toggleable__label {background-color: #d4ebff;}#sk-container-id-1 input.sk-hidden--visually {border: 0;clip: rect(1px 1px 1px 1px);clip: rect(1px, 1px, 1px, 1px);height: 1px;margin: -1px;overflow: hidden;padding: 0;position: absolute;width: 1px;}#sk-container-id-1 div.sk-estimator {font-family: monospace;background-color: #f0f8ff;border: 1px dotted black;border-radius: 0.25em;box-sizing: border-box;margin-bottom: 0.5em;}#sk-container-id-1 div.sk-estimator:hover {background-color: #d4ebff;}#sk-container-id-1 div.sk-parallel-item::after {content: \"\";width: 100%;border-bottom: 1px solid gray;flex-grow: 1;}#sk-container-id-1 div.sk-label:hover label.sk-toggleable__label {background-color: #d4ebff;}#sk-container-id-1 div.sk-serial::before {content: \"\";position: absolute;border-left: 1px solid gray;box-sizing: border-box;top: 0;bottom: 0;left: 50%;z-index: 0;}#sk-container-id-1 div.sk-serial {display: flex;flex-direction: column;align-items: center;background-color: white;padding-right: 0.2em;padding-left: 0.2em;position: relative;}#sk-container-id-1 div.sk-item {position: relative;z-index: 1;}#sk-container-id-1 div.sk-parallel {display: flex;align-items: stretch;justify-content: center;background-color: white;position: relative;}#sk-container-id-1 div.sk-item::before, #sk-container-id-1 div.sk-parallel-item::before {content: \"\";position: absolute;border-left: 1px solid gray;box-sizing: border-box;top: 0;bottom: 0;left: 50%;z-index: -1;}#sk-container-id-1 div.sk-parallel-item {display: flex;flex-direction: column;z-index: 1;position: relative;background-color: white;}#sk-container-id-1 div.sk-parallel-item:first-child::after {align-self: flex-end;width: 50%;}#sk-container-id-1 div.sk-parallel-item:last-child::after {align-self: flex-start;width: 50%;}#sk-container-id-1 div.sk-parallel-item:only-child::after {width: 0;}#sk-container-id-1 div.sk-dashed-wrapped {border: 1px dashed gray;margin: 0 0.4em 0.5em 0.4em;box-sizing: border-box;padding-bottom: 0.4em;background-color: white;}#sk-container-id-1 div.sk-label label {font-family: monospace;font-weight: bold;display: inline-block;line-height: 1.2em;}#sk-container-id-1 div.sk-label-container {text-align: center;}#sk-container-id-1 div.sk-container {/* jupyter's `normalize.less` sets `[hidden] { display: none; }` but bootstrap.min.css set `[hidden] { display: none !important; }` so we also need the `!important` here to be able to override the default hidden behavior on the sphinx rendered scikit-learn.org. See: https://github.com/scikit-learn/scikit-learn/issues/21755 */display: inline-block !important;position: relative;}#sk-container-id-1 div.sk-text-repr-fallback {display: none;}</style><div id=\"sk-container-id-1\" class=\"sk-top-container\"><div class=\"sk-text-repr-fallback\"><pre>MultiOutputRegressor(estimator=XGBRegressor(base_score=None, booster=None,\n",
       "                                            callbacks=None,\n",
       "                                            colsample_bylevel=None,\n",
       "                                            colsample_bynode=None,\n",
       "                                            colsample_bytree=None,\n",
       "                                            early_stopping_rounds=None,\n",
       "                                            enable_categorical=False,\n",
       "                                            eval_metric=None,\n",
       "                                            feature_types=None, gamma=None,\n",
       "                                            gpu_id=None, grow_policy=None,\n",
       "                                            importance_type=None,\n",
       "                                            interaction_constraints=None,\n",
       "                                            learning_rate=None, max_bin=None,\n",
       "                                            max_cat_threshold=None,\n",
       "                                            max_cat_to_onehot=None,\n",
       "                                            max_delta_step=None, max_depth=None,\n",
       "                                            max_leaves=None,\n",
       "                                            min_child_weight=None, missing=nan,\n",
       "                                            monotone_constraints=None,\n",
       "                                            n_estimators=100, n_jobs=None,\n",
       "                                            num_parallel_tree=None,\n",
       "                                            predictor=None, random_state=None, ...))</pre><b>In a Jupyter environment, please rerun this cell to show the HTML representation or trust the notebook. <br />On GitHub, the HTML representation is unable to render, please try loading this page with nbviewer.org.</b></div><div class=\"sk-container\" hidden><div class=\"sk-item sk-dashed-wrapped\"><div class=\"sk-label-container\"><div class=\"sk-label sk-toggleable\"><input class=\"sk-toggleable__control sk-hidden--visually\" id=\"sk-estimator-id-1\" type=\"checkbox\" ><label for=\"sk-estimator-id-1\" class=\"sk-toggleable__label sk-toggleable__label-arrow\">MultiOutputRegressor</label><div class=\"sk-toggleable__content\"><pre>MultiOutputRegressor(estimator=XGBRegressor(base_score=None, booster=None,\n",
       "                                            callbacks=None,\n",
       "                                            colsample_bylevel=None,\n",
       "                                            colsample_bynode=None,\n",
       "                                            colsample_bytree=None,\n",
       "                                            early_stopping_rounds=None,\n",
       "                                            enable_categorical=False,\n",
       "                                            eval_metric=None,\n",
       "                                            feature_types=None, gamma=None,\n",
       "                                            gpu_id=None, grow_policy=None,\n",
       "                                            importance_type=None,\n",
       "                                            interaction_constraints=None,\n",
       "                                            learning_rate=None, max_bin=None,\n",
       "                                            max_cat_threshold=None,\n",
       "                                            max_cat_to_onehot=None,\n",
       "                                            max_delta_step=None, max_depth=None,\n",
       "                                            max_leaves=None,\n",
       "                                            min_child_weight=None, missing=nan,\n",
       "                                            monotone_constraints=None,\n",
       "                                            n_estimators=100, n_jobs=None,\n",
       "                                            num_parallel_tree=None,\n",
       "                                            predictor=None, random_state=None, ...))</pre></div></div></div><div class=\"sk-parallel\"><div class=\"sk-parallel-item\"><div class=\"sk-item\"><div class=\"sk-label-container\"><div class=\"sk-label sk-toggleable\"><input class=\"sk-toggleable__control sk-hidden--visually\" id=\"sk-estimator-id-2\" type=\"checkbox\" ><label for=\"sk-estimator-id-2\" class=\"sk-toggleable__label sk-toggleable__label-arrow\">estimator: XGBRegressor</label><div class=\"sk-toggleable__content\"><pre>XGBRegressor(base_score=None, booster=None, callbacks=None,\n",
       "             colsample_bylevel=None, colsample_bynode=None,\n",
       "             colsample_bytree=None, early_stopping_rounds=None,\n",
       "             enable_categorical=False, eval_metric=None, feature_types=None,\n",
       "             gamma=None, gpu_id=None, grow_policy=None, importance_type=None,\n",
       "             interaction_constraints=None, learning_rate=None, max_bin=None,\n",
       "             max_cat_threshold=None, max_cat_to_onehot=None,\n",
       "             max_delta_step=None, max_depth=None, max_leaves=None,\n",
       "             min_child_weight=None, missing=nan, monotone_constraints=None,\n",
       "             n_estimators=100, n_jobs=None, num_parallel_tree=None,\n",
       "             predictor=None, random_state=None, ...)</pre></div></div></div><div class=\"sk-serial\"><div class=\"sk-item\"><div class=\"sk-estimator sk-toggleable\"><input class=\"sk-toggleable__control sk-hidden--visually\" id=\"sk-estimator-id-3\" type=\"checkbox\" ><label for=\"sk-estimator-id-3\" class=\"sk-toggleable__label sk-toggleable__label-arrow\">XGBRegressor</label><div class=\"sk-toggleable__content\"><pre>XGBRegressor(base_score=None, booster=None, callbacks=None,\n",
       "             colsample_bylevel=None, colsample_bynode=None,\n",
       "             colsample_bytree=None, early_stopping_rounds=None,\n",
       "             enable_categorical=False, eval_metric=None, feature_types=None,\n",
       "             gamma=None, gpu_id=None, grow_policy=None, importance_type=None,\n",
       "             interaction_constraints=None, learning_rate=None, max_bin=None,\n",
       "             max_cat_threshold=None, max_cat_to_onehot=None,\n",
       "             max_delta_step=None, max_depth=None, max_leaves=None,\n",
       "             min_child_weight=None, missing=nan, monotone_constraints=None,\n",
       "             n_estimators=100, n_jobs=None, num_parallel_tree=None,\n",
       "             predictor=None, random_state=None, ...)</pre></div></div></div></div></div></div></div></div></div></div>"
      ],
      "text/plain": [
       "MultiOutputRegressor(estimator=XGBRegressor(base_score=None, booster=None,\n",
       "                                            callbacks=None,\n",
       "                                            colsample_bylevel=None,\n",
       "                                            colsample_bynode=None,\n",
       "                                            colsample_bytree=None,\n",
       "                                            early_stopping_rounds=None,\n",
       "                                            enable_categorical=False,\n",
       "                                            eval_metric=None,\n",
       "                                            feature_types=None, gamma=None,\n",
       "                                            gpu_id=None, grow_policy=None,\n",
       "                                            importance_type=None,\n",
       "                                            interaction_constraints=None,\n",
       "                                            learning_rate=None, max_bin=None,\n",
       "                                            max_cat_threshold=None,\n",
       "                                            max_cat_to_onehot=None,\n",
       "                                            max_delta_step=None, max_depth=None,\n",
       "                                            max_leaves=None,\n",
       "                                            min_child_weight=None, missing=nan,\n",
       "                                            monotone_constraints=None,\n",
       "                                            n_estimators=100, n_jobs=None,\n",
       "                                            num_parallel_tree=None,\n",
       "                                            predictor=None, random_state=None, ...))"
      ]
     },
     "execution_count": 13,
     "metadata": {},
     "output_type": "execute_result"
    }
   ],
   "source": [
    "multi_output_regressor.fit(X_train, y_train)"
   ]
  },
  {
   "cell_type": "code",
   "execution_count": 14,
   "id": "4b202cb4",
   "metadata": {
    "execution": {
     "iopub.execute_input": "2023-08-17T08:31:57.161319Z",
     "iopub.status.busy": "2023-08-17T08:31:57.160582Z",
     "iopub.status.idle": "2023-08-17T08:31:57.180675Z",
     "shell.execute_reply": "2023-08-17T08:31:57.179773Z"
    },
    "papermill": {
     "duration": 0.029985,
     "end_time": "2023-08-17T08:31:57.183730",
     "exception": false,
     "start_time": "2023-08-17T08:31:57.153745",
     "status": "completed"
    },
    "tags": []
   },
   "outputs": [],
   "source": [
    "predictions = multi_output_regressor.predict(X_test)"
   ]
  },
  {
   "cell_type": "code",
   "execution_count": 15,
   "id": "2089b5b8",
   "metadata": {
    "execution": {
     "iopub.execute_input": "2023-08-17T08:31:57.197007Z",
     "iopub.status.busy": "2023-08-17T08:31:57.196342Z",
     "iopub.status.idle": "2023-08-17T08:31:57.202276Z",
     "shell.execute_reply": "2023-08-17T08:31:57.201456Z"
    },
    "papermill": {
     "duration": 0.01517,
     "end_time": "2023-08-17T08:31:57.204482",
     "exception": false,
     "start_time": "2023-08-17T08:31:57.189312",
     "status": "completed"
    },
    "tags": []
   },
   "outputs": [],
   "source": [
    "mse = mean_squared_error(y_test, predictions, multioutput='raw_values')"
   ]
  },
  {
   "cell_type": "code",
   "execution_count": 16,
   "id": "962b9fab",
   "metadata": {
    "execution": {
     "iopub.execute_input": "2023-08-17T08:31:57.217426Z",
     "iopub.status.busy": "2023-08-17T08:31:57.216843Z",
     "iopub.status.idle": "2023-08-17T08:31:57.221999Z",
     "shell.execute_reply": "2023-08-17T08:31:57.220820Z"
    },
    "papermill": {
     "duration": 0.014496,
     "end_time": "2023-08-17T08:31:57.224383",
     "exception": false,
     "start_time": "2023-08-17T08:31:57.209887",
     "status": "completed"
    },
    "tags": []
   },
   "outputs": [
    {
     "name": "stdout",
     "output_type": "stream",
     "text": [
      "[0.33713939 0.50192216]\n"
     ]
    }
   ],
   "source": [
    "print(mse)"
   ]
  },
  {
   "cell_type": "code",
   "execution_count": 17,
   "id": "f471bea1",
   "metadata": {
    "execution": {
     "iopub.execute_input": "2023-08-17T08:31:57.237067Z",
     "iopub.status.busy": "2023-08-17T08:31:57.236647Z",
     "iopub.status.idle": "2023-08-17T08:31:57.242676Z",
     "shell.execute_reply": "2023-08-17T08:31:57.241899Z"
    },
    "papermill": {
     "duration": 0.014968,
     "end_time": "2023-08-17T08:31:57.244828",
     "exception": false,
     "start_time": "2023-08-17T08:31:57.229860",
     "status": "completed"
    },
    "tags": []
   },
   "outputs": [
    {
     "data": {
      "text/plain": [
       "0.41953077494365976"
      ]
     },
     "execution_count": 17,
     "metadata": {},
     "output_type": "execute_result"
    }
   ],
   "source": [
    "mse.mean()"
   ]
  }
 ],
 "metadata": {
  "kernelspec": {
   "display_name": "Python 3",
   "language": "python",
   "name": "python3"
  },
  "language_info": {
   "codemirror_mode": {
    "name": "ipython",
    "version": 3
   },
   "file_extension": ".py",
   "mimetype": "text/x-python",
   "name": "python",
   "nbconvert_exporter": "python",
   "pygments_lexer": "ipython3",
   "version": "3.10.12"
  },
  "papermill": {
   "default_parameters": {},
   "duration": 28.782237,
   "end_time": "2023-08-17T08:31:58.273751",
   "environment_variables": {},
   "exception": null,
   "input_path": "__notebook__.ipynb",
   "output_path": "__notebook__.ipynb",
   "parameters": {},
   "start_time": "2023-08-17T08:31:29.491514",
   "version": "2.4.0"
  }
 },
 "nbformat": 4,
 "nbformat_minor": 5
}
