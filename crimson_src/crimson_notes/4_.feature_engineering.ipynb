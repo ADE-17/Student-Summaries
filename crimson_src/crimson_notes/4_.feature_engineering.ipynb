{
 "cells": [
  {
   "cell_type": "markdown",
   "metadata": {},
   "source": [
    "# 4. Feature Engineering\n",
    "\n",
    "   - Explore potential features from the text, such as summary length, unique word count, etc.\n",
    "   - Analyze prompt texts to see if they can offer additional features.\n",
    "   - Discuss and implement feature extraction methods together.\n"
   ]
  },
  {
   "cell_type": "markdown",
   "metadata": {},
   "source": [
    "## Previous codes"
   ]
  },
  {
   "cell_type": "code",
   "execution_count": 2,
   "metadata": {},
   "outputs": [],
   "source": [
    "import pandas as pd\n",
    "from transformers import BertTokenizer\n",
    "\n",
    "\n",
    "# Load datasets\n",
    "prompts_test = pd.read_csv(\"../data/prompts_test.csv\")\n",
    "prompts_train = pd.read_csv(\"../data/prompts_train.csv\")\n",
    "summaries_test = pd.read_csv(\"../data/summaries_test.csv\")\n",
    "summaries_train = pd.read_csv(\"../data/summaries_train.csv\")\n",
    "\n",
    "# Drop student_id column from summaries_train and summaries_test\n",
    "summaries_train = summaries_train.drop(columns=['student_id'])\n",
    "summaries_test = summaries_test.drop(columns=['student_id'])\n",
    "\n",
    "id_mapping = {id_val: idx for idx, id_val in enumerate(prompts_train['prompt_id'].unique())}\n",
    "\n",
    "summaries_train['prompt_id'] = summaries_train['prompt_id'].replace(id_mapping)\n",
    "summaries_test['prompt_id'] = summaries_test['prompt_id'].replace(id_mapping)\n",
    "\n",
    "# Load the BERT tokenizer\n",
    "tokenizer = BertTokenizer.from_pretrained('bert-base-uncased')\n",
    "\n",
    "# Tokenize the 'text' column\n",
    "texts = summaries_train['text'].tolist()\n",
    "tokens = tokenizer(texts, padding=True, truncation=True, return_tensors=\"pt\", max_length=128)"
   ]
  },
  {
   "cell_type": "code",
   "execution_count": 7,
   "metadata": {},
   "outputs": [
    {
     "name": "stdout",
     "output_type": "stream",
     "text": [
      "0     61\n",
      "1     52\n",
      "2    235\n",
      "3     25\n",
      "4    203\n",
      "Name: summary_length, dtype: int64\n"
     ]
    }
   ],
   "source": [
    "summaries_train['summary_length'] = summaries_train['text'].apply(lambda x: len(x.split()))\n",
    "print(summaries_train['summary_length'].head())"
   ]
  },
  {
   "cell_type": "code",
   "execution_count": 8,
   "metadata": {},
   "outputs": [
    {
     "name": "stdout",
     "output_type": "stream",
     "text": [
      "0     51\n",
      "1     38\n",
      "2    149\n",
      "3     19\n",
      "4    138\n",
      "Name: unique_word_count, dtype: int64\n"
     ]
    }
   ],
   "source": [
    "summaries_train['unique_word_count'] = summaries_train['text'].apply(lambda x: len(set(x.split())))\n",
    "print(summaries_train['unique_word_count'].head())"
   ]
  },
  {
   "cell_type": "code",
   "execution_count": 12,
   "metadata": {},
   "outputs": [
    {
     "name": "stdout",
     "output_type": "stream",
     "text": [
      "0    15.250000\n",
      "1    17.333333\n",
      "2    18.000000\n",
      "3     5.600000\n",
      "4    14.500000\n",
      "Name: avg_sentence_length, dtype: float64\n"
     ]
    }
   ],
   "source": [
    "summaries_train['avg_sentence_length'] = summaries_train['text'].apply(lambda x: sum(len(sentence.split()) for sentence in x.split('.')) / len(x.split('.')))\n",
    "print(summaries_train['avg_sentence_length'].head())"
   ]
  },
  {
   "cell_type": "code",
   "execution_count": 9,
   "metadata": {},
   "outputs": [
    {
     "name": "stdout",
     "output_type": "stream",
     "text": [
      "0    4.688525\n",
      "1    3.711538\n",
      "2    4.834043\n",
      "3    5.320000\n",
      "4    5.024631\n",
      "Name: avg_word_length, dtype: float64\n"
     ]
    }
   ],
   "source": [
    "summaries_train['avg_word_length'] = summaries_train['text'].apply(lambda x: sum(len(word) for word in x.split()) / len(x.split()))\n",
    "print(summaries_train['avg_word_length'].head())"
   ]
  },
  {
   "cell_type": "markdown",
   "metadata": {},
   "source": [
    "## Correlation Analysis\n",
    "\n",
    "Strong positive correlation : Length of sentence.\n",
    "\n",
    "Weak positive correlation : Length of words."
   ]
  },
  {
   "cell_type": "code",
   "execution_count": 16,
   "metadata": {},
   "outputs": [
    {
     "name": "stdout",
     "output_type": "stream",
     "text": [
      "Correlation Matrix for prompt_id: 2\n",
      "                     prompt_id   content   wording  summary_length  \\\n",
      "prompt_id                  NaN       NaN       NaN             NaN   \n",
      "content                    NaN  1.000000  0.813791        0.832240   \n",
      "wording                    NaN  0.813791  1.000000        0.615885   \n",
      "summary_length             NaN  0.832240  0.615885        1.000000   \n",
      "unique_word_count          NaN  0.856020  0.648615        0.980010   \n",
      "avg_word_length            NaN  0.241180  0.185428        0.145148   \n",
      "avg_sentence_length        NaN  0.133283 -0.000374        0.268629   \n",
      "\n",
      "                     unique_word_count  avg_word_length  avg_sentence_length  \n",
      "prompt_id                          NaN              NaN                  NaN  \n",
      "content                       0.856020         0.241180             0.133283  \n",
      "wording                       0.648615         0.185428            -0.000374  \n",
      "summary_length                0.980010         0.145148             0.268629  \n",
      "unique_word_count             1.000000         0.180733             0.238322  \n",
      "avg_word_length               0.180733         1.000000            -0.131422  \n",
      "avg_sentence_length           0.238322        -0.131422             1.000000  \n",
      "--------------------------------------------------\n",
      "Correlation Matrix for prompt_id: 3\n",
      "                     prompt_id   content   wording  summary_length  \\\n",
      "prompt_id                  NaN       NaN       NaN             NaN   \n",
      "content                    NaN  1.000000  0.753413        0.775650   \n",
      "wording                    NaN  0.753413  1.000000        0.532135   \n",
      "summary_length             NaN  0.775650  0.532135        1.000000   \n",
      "unique_word_count          NaN  0.785415  0.533285        0.983218   \n",
      "avg_word_length            NaN  0.216203  0.245833        0.147222   \n",
      "avg_sentence_length        NaN  0.118565 -0.084587        0.283575   \n",
      "\n",
      "                     unique_word_count  avg_word_length  avg_sentence_length  \n",
      "prompt_id                          NaN              NaN                  NaN  \n",
      "content                       0.785415         0.216203             0.118565  \n",
      "wording                       0.533285         0.245833            -0.084587  \n",
      "summary_length                0.983218         0.147222             0.283575  \n",
      "unique_word_count             1.000000         0.194660             0.282635  \n",
      "avg_word_length               0.194660         1.000000            -0.140800  \n",
      "avg_sentence_length           0.282635        -0.140800             1.000000  \n",
      "--------------------------------------------------\n",
      "Correlation Matrix for prompt_id: 1\n",
      "                     prompt_id   content   wording  summary_length  \\\n",
      "prompt_id                  NaN       NaN       NaN             NaN   \n",
      "content                    NaN  1.000000  0.687494        0.807837   \n",
      "wording                    NaN  0.687494  1.000000        0.500678   \n",
      "summary_length             NaN  0.807837  0.500678        1.000000   \n",
      "unique_word_count          NaN  0.817701  0.495290        0.982191   \n",
      "avg_word_length            NaN  0.167475  0.020058        0.079305   \n",
      "avg_sentence_length        NaN -0.044043 -0.077985        0.071313   \n",
      "\n",
      "                     unique_word_count  avg_word_length  avg_sentence_length  \n",
      "prompt_id                          NaN              NaN                  NaN  \n",
      "content                       0.817701         0.167475            -0.044043  \n",
      "wording                       0.495290         0.020058            -0.077985  \n",
      "summary_length                0.982191         0.079305             0.071313  \n",
      "unique_word_count             1.000000         0.133342             0.032393  \n",
      "avg_word_length               0.133342         1.000000            -0.265983  \n",
      "avg_sentence_length           0.032393        -0.265983             1.000000  \n",
      "--------------------------------------------------\n",
      "Correlation Matrix for prompt_id: 0\n",
      "                     prompt_id   content   wording  summary_length  \\\n",
      "prompt_id                  NaN       NaN       NaN             NaN   \n",
      "content                    NaN  1.000000  0.812911        0.821670   \n",
      "wording                    NaN  0.812911  1.000000        0.688608   \n",
      "summary_length             NaN  0.821670  0.688608        1.000000   \n",
      "unique_word_count          NaN  0.836078  0.693971        0.980349   \n",
      "avg_word_length            NaN  0.157205  0.105857        0.095977   \n",
      "avg_sentence_length        NaN  0.181688  0.041900        0.282659   \n",
      "\n",
      "                     unique_word_count  avg_word_length  avg_sentence_length  \n",
      "prompt_id                          NaN              NaN                  NaN  \n",
      "content                       0.836078         0.157205             0.181688  \n",
      "wording                       0.693971         0.105857             0.041900  \n",
      "summary_length                0.980349         0.095977             0.282659  \n",
      "unique_word_count             1.000000         0.142991             0.282542  \n",
      "avg_word_length               0.142991         1.000000            -0.060423  \n",
      "avg_sentence_length           0.282542        -0.060423             1.000000  \n",
      "--------------------------------------------------\n"
     ]
    },
    {
     "name": "stderr",
     "output_type": "stream",
     "text": [
      "C:\\Users\\sisun\\AppData\\Local\\Temp\\ipykernel_9464\\1655705572.py:4: FutureWarning: The default value of numeric_only in DataFrame.corr is deprecated. In a future version, it will default to False. Select only valid columns or specify the value of numeric_only to silence this warning.\n",
      "  correlation_matrix = subset.corr()\n",
      "C:\\Users\\sisun\\AppData\\Local\\Temp\\ipykernel_9464\\1655705572.py:4: FutureWarning: The default value of numeric_only in DataFrame.corr is deprecated. In a future version, it will default to False. Select only valid columns or specify the value of numeric_only to silence this warning.\n",
      "  correlation_matrix = subset.corr()\n",
      "C:\\Users\\sisun\\AppData\\Local\\Temp\\ipykernel_9464\\1655705572.py:4: FutureWarning: The default value of numeric_only in DataFrame.corr is deprecated. In a future version, it will default to False. Select only valid columns or specify the value of numeric_only to silence this warning.\n",
      "  correlation_matrix = subset.corr()\n",
      "C:\\Users\\sisun\\AppData\\Local\\Temp\\ipykernel_9464\\1655705572.py:4: FutureWarning: The default value of numeric_only in DataFrame.corr is deprecated. In a future version, it will default to False. Select only valid columns or specify the value of numeric_only to silence this warning.\n",
      "  correlation_matrix = subset.corr()\n"
     ]
    }
   ],
   "source": [
    "# Loop through each unique prompt_id and calculate/print the correlation matrix\n",
    "for prompt_id in summaries_train['prompt_id'].unique():\n",
    "    subset = summaries_train[summaries_train['prompt_id'] == prompt_id]\n",
    "    correlation_matrix = subset.corr()\n",
    "    \n",
    "    print(f\"Correlation Matrix for prompt_id: {prompt_id}\")\n",
    "    print(correlation_matrix)\n",
    "    print(\"-\" * 50)  # a separator line for clarity\n"
   ]
  },
  {
   "cell_type": "markdown",
   "metadata": {},
   "source": [
    "## Multi-taks candidates\n",
    "\n",
    "Readability Scores\n",
    "\n",
    "Grammatical Errors\n",
    "\n",
    "Dependency Parsing:\n",
    "Analyze sentence structures to see if certain patterns are more common in high-scoring responses."
   ]
  }
 ],
 "metadata": {
  "kernelspec": {
   "display_name": "base",
   "language": "python",
   "name": "python3"
  },
  "language_info": {
   "codemirror_mode": {
    "name": "ipython",
    "version": 3
   },
   "file_extension": ".py",
   "mimetype": "text/x-python",
   "name": "python",
   "nbconvert_exporter": "python",
   "pygments_lexer": "ipython3",
   "version": "3.10.9"
  },
  "orig_nbformat": 4
 },
 "nbformat": 4,
 "nbformat_minor": 2
}
