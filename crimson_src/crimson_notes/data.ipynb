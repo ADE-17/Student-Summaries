{
 "cells": [
  {
   "cell_type": "code",
   "execution_count": null,
   "metadata": {},
   "outputs": [],
   "source": [
    "import pandas as pd\n",
    "from transformers import BertTokenizer\n",
    "\n",
    "\n",
    "# Load datasets\n",
    "prompts_test = pd.read_csv(\"../data/prompts_test.csv\")\n",
    "prompts_train = pd.read_csv(\"../data/prompts_train.csv\")\n",
    "summaries_test = pd.read_csv(\"../data/summaries_test.csv\")\n",
    "summaries_train = pd.read_csv(\"../data/summaries_train.csv\")\n",
    "\n",
    "# Drop student_id column from summaries_train and summaries_test\n",
    "summaries_train = summaries_train.drop(columns=['student_id'])\n",
    "summaries_test = summaries_test.drop(columns=['student_id'])\n",
    "\n",
    "id_mapping = {id_val: idx for idx, id_val in enumerate(prompts_train['prompt_id'].unique())}\n",
    "\n",
    "summaries_train['prompt_id'] = summaries_train['prompt_id'].replace(id_mapping)\n",
    "summaries_test['prompt_id'] = summaries_test['prompt_id'].replace(id_mapping)\n",
    "\n",
    "# Load the BERT tokenizer\n",
    "tokenizer = BertTokenizer.from_pretrained('bert-base-uncased')\n",
    "\n",
    "# Tokenize the 'text' column\n",
    "texts = summaries_train['text'].tolist()\n",
    "tokens = tokenizer(texts, padding=True, truncation=True, return_tensors=\"pt\", max_length=512)"
   ]
  }
 ],
 "metadata": {
  "language_info": {
   "name": "python"
  },
  "orig_nbformat": 4
 },
 "nbformat": 4,
 "nbformat_minor": 2
}
