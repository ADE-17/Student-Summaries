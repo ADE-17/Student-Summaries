{
 "cells": [
  {
   "cell_type": "markdown",
   "metadata": {},
   "source": [
    "# 4. Feature Engineering\n",
    "\n",
    "   - Explore potential features from the text, such as summary length, unique word count, etc.\n",
    "   - Analyze prompt texts to see if they can offer additional features.\n",
    "   - Discuss and implement feature extraction methods together.\n"
   ]
  },
  {
   "cell_type": "markdown",
   "metadata": {},
   "source": [
    "## Previous codes"
   ]
  },
  {
   "cell_type": "code",
   "execution_count": 2,
   "metadata": {},
   "outputs": [],
   "source": [
    "import pandas as pd\n",
    "from transformers import BertTokenizer\n",
    "\n",
    "\n",
    "# Load datasets\n",
    "prompts_test = pd.read_csv(\"../data/prompts_test.csv\")\n",
    "prompts_train = pd.read_csv(\"../data/prompts_train.csv\")\n",
    "summaries_test = pd.read_csv(\"../data/summaries_test.csv\")\n",
    "summaries_train = pd.read_csv(\"../data/summaries_train.csv\")\n",
    "\n",
    "# Drop student_id column from summaries_train and summaries_test\n",
    "summaries_train = summaries_train.drop(columns=['student_id'])\n",
    "summaries_test = summaries_test.drop(columns=['student_id'])\n",
    "\n",
    "id_mapping = {id_val: idx for idx, id_val in enumerate(prompts_train['prompt_id'].unique())}\n",
    "\n",
    "summaries_train['prompt_id'] = summaries_train['prompt_id'].replace(id_mapping)\n",
    "summaries_test['prompt_id'] = summaries_test['prompt_id'].replace(id_mapping)\n",
    "\n",
    "# Load the BERT tokenizer\n",
    "tokenizer = BertTokenizer.from_pretrained('bert-base-uncased')\n",
    "\n",
    "# Tokenize the 'text' column\n",
    "texts = summaries_train['text'].tolist()\n",
    "tokens = tokenizer(texts, padding=True, truncation=True, return_tensors=\"pt\", max_length=512)"
   ]
  },
  {
   "cell_type": "code",
   "execution_count": 7,
   "metadata": {},
   "outputs": [
    {
     "name": "stdout",
     "output_type": "stream",
     "text": [
      "0     61\n",
      "1     52\n",
      "2    235\n",
      "3     25\n",
      "4    203\n",
      "Name: summary_length, dtype: int64\n"
     ]
    }
   ],
   "source": [
    "summaries_train['summary_length'] = summaries_train['text'].apply(lambda x: len(x.split()))\n",
    "print(summaries_train['summary_length'].head())"
   ]
  },
  {
   "cell_type": "code",
   "execution_count": 8,
   "metadata": {},
   "outputs": [
    {
     "name": "stdout",
     "output_type": "stream",
     "text": [
      "0     51\n",
      "1     38\n",
      "2    149\n",
      "3     19\n",
      "4    138\n",
      "Name: unique_word_count, dtype: int64\n"
     ]
    }
   ],
   "source": [
    "summaries_train['unique_word_count'] = summaries_train['text'].apply(lambda x: len(set(x.split())))\n",
    "print(summaries_train['unique_word_count'].head())"
   ]
  },
  {
   "cell_type": "code",
   "execution_count": 9,
   "metadata": {},
   "outputs": [
    {
     "name": "stdout",
     "output_type": "stream",
     "text": [
      "0    4.688525\n",
      "1    3.711538\n",
      "2    4.834043\n",
      "3    5.320000\n",
      "4    5.024631\n",
      "Name: avg_word_length, dtype: float64\n"
     ]
    }
   ],
   "source": [
    "summaries_train['avg_word_length'] = summaries_train['text'].apply(lambda x: sum(len(word) for word in x.split()) / len(x.split()))\n",
    "print(summaries_train['avg_word_length'].head())"
   ]
  },
  {
   "cell_type": "code",
   "execution_count": 10,
   "metadata": {},
   "outputs": [
    {
     "name": "stdout",
     "output_type": "stream",
     "text": [
      "                   prompt_id   content   wording  summary_length  \\\n",
      "prompt_id           1.000000  0.006426 -0.016128        0.091246   \n",
      "content             0.006426  1.000000  0.751380        0.792626   \n",
      "wording            -0.016128  0.751380  1.000000        0.536343   \n",
      "summary_length      0.091246  0.792626  0.536343        1.000000   \n",
      "unique_word_count   0.095362  0.806767  0.544271        0.981951   \n",
      "avg_word_length    -0.332255  0.187802  0.156207        0.099059   \n",
      "\n",
      "                   unique_word_count  avg_word_length  \n",
      "prompt_id                   0.095362        -0.332255  \n",
      "content                     0.806767         0.187802  \n",
      "wording                     0.544271         0.156207  \n",
      "summary_length              0.981951         0.099059  \n",
      "unique_word_count           1.000000         0.140658  \n",
      "avg_word_length             0.140658         1.000000  \n"
     ]
    },
    {
     "name": "stderr",
     "output_type": "stream",
     "text": [
      "C:\\Users\\sisun\\AppData\\Local\\Temp\\ipykernel_9464\\989670437.py:1: FutureWarning: The default value of numeric_only in DataFrame.corr is deprecated. In a future version, it will default to False. Select only valid columns or specify the value of numeric_only to silence this warning.\n",
      "  correlation_matrix = summaries_train.corr()\n"
     ]
    }
   ],
   "source": [
    "correlation_matrix = summaries_train.corr()\n",
    "print(correlation_matrix)"
   ]
  },
  {
   "cell_type": "markdown",
   "metadata": {},
   "source": [
    "## Correlation Analysis\n",
    "\n",
    "Strong positive correlation : Length of sentence.\n",
    "Weak positive correlation : Length of words."
   ]
  },
  {
   "cell_type": "markdown",
   "metadata": {},
   "source": [
    "## Multi-taks candidates\n",
    "\n",
    "Readability Scores\n",
    "\n",
    "Grammatical Errors\n",
    "\n",
    "Dependency Parsing:\n",
    "Analyze sentence structures to see if certain patterns are more common in high-scoring responses.\n",
    "\n",
    "Semantic Similarity:\n",
    "Measure how similar student summaries are to the original prompt or a given reference summary. This can give insights into how closely students stuck to the original topic."
   ]
  }
 ],
 "metadata": {
  "kernelspec": {
   "display_name": "base",
   "language": "python",
   "name": "python3"
  },
  "language_info": {
   "codemirror_mode": {
    "name": "ipython",
    "version": 3
   },
   "file_extension": ".py",
   "mimetype": "text/x-python",
   "name": "python",
   "nbconvert_exporter": "python",
   "pygments_lexer": "ipython3",
   "version": "3.10.9"
  },
  "orig_nbformat": 4
 },
 "nbformat": 4,
 "nbformat_minor": 2
}
