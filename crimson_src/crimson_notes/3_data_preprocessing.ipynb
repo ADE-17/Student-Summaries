{
 "cells": [
  {
   "cell_type": "markdown",
   "metadata": {},
   "source": [
    "# 3. **Data Preprocessing:**\n",
    "   - Handle missing values, if any.\n",
    "   - Tokenize and preprocess the text summaries.\n",
    "   - Decide on a strategy to embed or vectorize the text data.\n",
    "   - Split the training data for validation purposes."
   ]
  },
  {
   "cell_type": "markdown",
   "metadata": {},
   "source": [
    "## Previous Codes"
   ]
  },
  {
   "cell_type": "code",
   "execution_count": 6,
   "metadata": {},
   "outputs": [],
   "source": [
    "import pandas as pd\n",
    "\n",
    "# Load datasets\n",
    "prompts_test = pd.read_csv(\"../data/prompts_test.csv\")\n",
    "prompts_train = pd.read_csv(\"../data/prompts_train.csv\")\n",
    "summaries_test = pd.read_csv(\"../data/summaries_test.csv\")\n",
    "summaries_train = pd.read_csv(\"../data/summaries_train.csv\")\n",
    "\n",
    "# Drop student_id column from summaries_train and summaries_test\n",
    "summaries_train = summaries_train.drop(columns=['student_id'])\n",
    "summaries_test = summaries_test.drop(columns=['student_id'])\n",
    "\n",
    "id_mapping = {id_val: idx for idx, id_val in enumerate(prompts_train['prompt_id'].unique())}\n",
    "\n",
    "summaries_train['prompt_id'] = summaries_train['prompt_id'].replace(id_mapping)\n",
    "summaries_test['prompt_id'] = summaries_test['prompt_id'].replace(id_mapping)"
   ]
  },
  {
   "cell_type": "code",
   "execution_count": 7,
   "metadata": {},
   "outputs": [
    {
     "name": "stdout",
     "output_type": "stream",
     "text": [
      "Index(['prompt_id', 'text', 'content', 'wording'], dtype='object')\n"
     ]
    }
   ],
   "source": [
    "print(summaries_train.keys())"
   ]
  },
  {
   "cell_type": "code",
   "execution_count": 8,
   "metadata": {},
   "outputs": [
    {
     "data": {
      "image/png": "[encoded data removed]",
      "text/plain": [
       "<Figure size 500x300 with 1 Axes>"
      ]
     },
     "metadata": {},
     "output_type": "display_data"
    }
   ],
   "source": [
    "import matplotlib.pyplot as plt\n",
    "\n",
    "# Split the 'text' column by spaces and get the length of each split text\n",
    "lengths = summaries_train['text'].apply(lambda x: len(x.split()))\n",
    "\n",
    "# Plot the histogram of lengths\n",
    "plt.figure(figsize=(5, 3))\n",
    "plt.hist(lengths, bins=50, edgecolor='black')\n",
    "plt.title('Histogram of Summary Lengths (in words)')\n",
    "plt.xlabel('Length')\n",
    "plt.ylabel('Number of Summaries')\n",
    "plt.show()\n"
   ]
  },
  {
   "cell_type": "markdown",
   "metadata": {},
   "source": [
    "## Tokenize"
   ]
  },
  {
   "cell_type": "code",
   "execution_count": 9,
   "metadata": {},
   "outputs": [],
   "source": [
    "from transformers import BertTokenizer\n",
    "\n",
    "# Load the BERT tokenizer\n",
    "tokenizer = BertTokenizer.from_pretrained('bert-base-uncased')"
   ]
  },
  {
   "cell_type": "code",
   "execution_count": 10,
   "metadata": {},
   "outputs": [],
   "source": [
    "# Tokenize the 'text' column\n",
    "texts = summaries_train['text'].tolist()\n",
    "tokens = tokenizer(texts, padding=True, truncation=True, return_tensors=\"pt\", max_length=128)\n"
   ]
  },
  {
   "cell_type": "code",
   "execution_count": 11,
   "metadata": {},
   "outputs": [
    {
     "name": "stdout",
     "output_type": "stream",
     "text": [
      "Number of sequences: 7165\n",
      "Average sequence length: 128\n",
      "Number of tokens in the first sequence: 58\n",
      "\n",
      "First sequence tokens:\n",
      "[CLS] the third wave was an experimentto see how people reacted to a new one leader government. it gained popularity as people wanted to try new things. the students follow anything that is said and start turning on eachother to gain higher power. they had to stop the experement as too many people got to radical with it blindly following there leader [SEP] [PAD] [PAD] [PAD] [PAD] [PAD] [PAD] [PAD] [PAD] [PAD] [PAD] [PAD] [PAD] [PAD] [PAD] [PAD] [PAD] [PAD] [PAD] [PAD] [PAD] [PAD] [PAD] [PAD] [PAD] [PAD] [PAD] [PAD] [PAD] [PAD] [PAD] [PAD] [PAD] [PAD] [PAD] [PAD] [PAD] [PAD] [PAD] [PAD] [PAD] [PAD] [PAD] [PAD] [PAD] [PAD] [PAD] [PAD] [PAD] [PAD] [PAD] [PAD] [PAD] [PAD] [PAD] [PAD] [PAD] [PAD]\n",
      "\n",
      "Attention mask for the first sequence:\n",
      "tensor([1, 1, 1, 1, 1, 1, 1, 1, 1, 1, 1, 1, 1, 1, 1, 1, 1, 1, 1, 1, 1, 1, 1, 1,\n",
      "        1, 1, 1, 1, 1, 1, 1, 1, 1, 1, 1, 1, 1, 1, 1, 1, 1, 1, 1, 1, 1, 1, 1, 1,\n",
      "        1, 1, 1, 1, 1, 1, 1, 1, 1, 1, 1, 1, 1, 1, 1, 1, 1, 1, 1, 1, 1, 1, 1, 0,\n",
      "        0, 0, 0, 0, 0, 0, 0, 0, 0, 0, 0, 0, 0, 0, 0, 0, 0, 0, 0, 0, 0, 0, 0, 0,\n",
      "        0, 0, 0, 0, 0, 0, 0, 0, 0, 0, 0, 0, 0, 0, 0, 0, 0, 0, 0, 0, 0, 0, 0, 0,\n",
      "        0, 0, 0, 0, 0, 0, 0, 0])\n"
     ]
    }
   ],
   "source": [
    "# Extracting the token components\n",
    "input_ids = tokens['input_ids']\n",
    "attention_masks = tokens['attention_mask']\n",
    "\n",
    "# Displaying some basic information about the tokens\n",
    "print(f\"Number of sequences: {len(input_ids)}\")\n",
    "print(f\"Average sequence length: {input_ids.shape[1]}\")\n",
    "print(f\"Number of tokens in the first sequence: {sum(attention_masks[1]).item()}\")\n",
    "\n",
    "# If you want to see the actual tokens of the first sequence, you can decode it like this:\n",
    "decoded_text = tokenizer.decode(input_ids[0])\n",
    "print(\"\\nFirst sequence tokens:\")\n",
    "print(decoded_text)\n",
    "\n",
    "# Displaying the attention mask for the first sequence\n",
    "print(\"\\nAttention mask for the first sequence:\")\n",
    "print(attention_masks[0])"
   ]
  },
  {
   "cell_type": "code",
   "execution_count": 12,
   "metadata": {},
   "outputs": [
    {
     "name": "stdout",
     "output_type": "stream",
     "text": [
      "5 Most Frequent Tokens: [('[PAD]', 351794), ('the', 37364), ('.', 23948), (',', 17801), ('and', 16619)]\n",
      "Minimum Frequency: 1\n"
     ]
    }
   ],
   "source": [
    "from collections import Counter\n",
    "\n",
    "# Convert token IDs to tokens\n",
    "tokenized_texts = [tokenizer.convert_ids_to_tokens(seq) for seq in tokens['input_ids']]\n",
    "\n",
    "# Flatten the list of lists to get all tokens in a single list\n",
    "all_tokens = [token for sublist in tokenized_texts for token in sublist]\n",
    "\n",
    "# Calculate frequencies\n",
    "token_freq = Counter(all_tokens)\n",
    "\n",
    "# Get the 5 most common tokens and their counts\n",
    "most_common_tokens = token_freq.most_common(5)\n",
    "\n",
    "# Get the minimum frequency\n",
    "min_freq = min(token_freq.values())\n",
    "\n",
    "print(\"5 Most Frequent Tokens:\", most_common_tokens)\n",
    "print(\"Minimum Frequency:\", min_freq)\n"
   ]
  }
 ],
 "metadata": {
  "kernelspec": {
   "display_name": "base",
   "language": "python",
   "name": "python3"
  },
  "language_info": {
   "codemirror_mode": {
    "name": "ipython",
    "version": 3
   },
   "file_extension": ".py",
   "mimetype": "text/x-python",
   "name": "python",
   "nbconvert_exporter": "python",
   "pygments_lexer": "ipython3",
   "version": "3.10.9"
  },
  "orig_nbformat": 4
 },
 "nbformat": 4,
 "nbformat_minor": 2
}
